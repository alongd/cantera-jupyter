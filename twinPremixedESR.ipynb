{
 "cells": [
  {
   "cell_type": "markdown",
   "metadata": {},
   "source": [
    "### Import modules"
   ]
  },
  {
   "cell_type": "code",
   "execution_count": null,
   "metadata": {
    "collapsed": false
   },
   "outputs": [],
   "source": [
    "# Extinction Strain Rate with Sensitivity Alalysis\n",
    "# Run with Cantera version 2.3.0 or higher\n",
    "# Written by Alon Grinberg Dana, inspired by:\n",
    "# (1) twin_premixed_flame_axisymmetric.ipynb in Cantera, and\n",
    "# (2) http://www.cantera.org/docs/sphinx/html/cython/examples/onedim_diffusion_flame_extinction.html\n",
    "#     cite: doi:10.1155/2014/484372)\n",
    "\n",
    "from __future__ import print_function\n",
    "from __future__ import division\n",
    "import cantera as ct\n",
    "import numpy as np\n",
    "import pandas as pd\n",
    "import matplotlib.pyplot as plt\n",
    "import os\n",
    "import time\n",
    "%matplotlib notebook\n",
    "\n",
    "print(\"Running Cantera Version: \" + str(ct.__version__))"
   ]
  },
  {
   "cell_type": "markdown",
   "metadata": {},
   "source": [
    "### User viriables: reactant conditions, kinetic mechanism, domain length"
   ]
  },
  {
   "cell_type": "code",
   "execution_count": null,
   "metadata": {
    "collapsed": true
   },
   "outputs": [],
   "source": [
    "# Setting the inlet T and P\n",
    "To = 300     # K\n",
    "Po = 101325  # Pa\n",
    "\n",
    "# Setting the composition\n",
    "composition = 'CH4:0.75, O2:2, N2: 7.52'\n",
    "\n",
    "# Define the gas-mixutre and kinetics\n",
    "gas = ct.Solution('gri30.cti')\n",
    "\n",
    "# Define a domain half-width of x m, i.e., the whole domain is 2x m wide\n",
    "width = 0.007 # m\n",
    "\n",
    "gas.TPX = To, Po, composition\n",
    "\n",
    "# Set the reactants inlet velocity which determines the strain-rate\n",
    "axial_velocity = 200 # in cm/s\n",
    "\n",
    "# Compute the mass flux, as required by the Flame object\n",
    "massFlux = gas.density * axial_velocity * 0.01 # units kg/m2/s"
   ]
  },
  {
   "cell_type": "markdown",
   "metadata": {},
   "source": [
    "### Define functions"
   ]
  },
  {
   "cell_type": "code",
   "execution_count": null,
   "metadata": {
    "collapsed": true
   },
   "outputs": [],
   "source": [
    "# Differentiation function for data that has variable grid spacing, used to compute normal strain-rate\n",
    "def derivative(x, y):\n",
    "    dydx = np.zeros(y.shape, y.dtype.type)\n",
    "\n",
    "    dx = np.diff(x)\n",
    "    dy = np.diff(y)\n",
    "    dydx[0:-1] = dy/dx\n",
    "\n",
    "    dydx[-1] = (y[-1] - y[-2])/(x[-1] - x[-2])\n",
    "\n",
    "    return dydx\n",
    "\n",
    "def computeStrainRates(oppFlame):\n",
    "    # Compute the derivative of axial velocity to obtain normal strain rate\n",
    "    strainRates = derivative(oppFlame.grid, oppFlame.u)\n",
    "\n",
    "    # Obtain the Characteristic Strain Rate (K)\n",
    "    n = 0\n",
    "    while strainRates[n] > strainRates[n+1]:\n",
    "        n +=1\n",
    "    strainRatePoint = n\n",
    "    K = abs(strainRates[n])\n",
    "    \n",
    "    return strainRates, strainRatePoint, K\n",
    "\n",
    "def computeConsumptionSpeed(oppFlame):\n",
    "\n",
    "    Tb = max(oppFlame.T)\n",
    "    Tu = min(oppFlame.T)\n",
    "    rho_u = max(oppFlame.density)\n",
    "\n",
    "    integrand = oppFlame.heat_release_rate/oppFlame.cp\n",
    "\n",
    "    I = np.trapz(integrand, oppFlame.grid)\n",
    "    Sc = I/(Tb - Tu)/rho_u\n",
    "\n",
    "    return Sc\n",
    "\n",
    "# This function is called to run the solver\n",
    "def solveOpposedFlame(oppFlame, massFlux=0.12, loglevel=0,\n",
    "                      ratio=2, slope=0.3, curve=0.3, prune=0.05):\n",
    "    \"\"\"\n",
    "    Execute this function to run the Oppposed Flow Simulation. This function\n",
    "    takes a CounterFlowTwinPremixedFlame object as the first argument\n",
    "    \"\"\"\n",
    "\n",
    "    oppFlame.reactants.mdot = massFlux\n",
    "    oppFlame.set_refine_criteria(ratio=ratio, slope=slope, curve=curve, prune=prune)\n",
    "\n",
    "    oppFlame.show_solution()\n",
    "    oppFlame.solve(loglevel, auto=True)\n",
    "\n",
    "    # Compute the strain rate\n",
    "    strainRates, strainRatePoint, K = computeStrainRates(oppFlame)\n",
    "\n",
    "    return np.max(oppFlame.T), K, strainRatePoint"
   ]
  },
  {
   "cell_type": "markdown",
   "metadata": {},
   "source": [
    "### Run the Solver"
   ]
  },
  {
   "cell_type": "code",
   "execution_count": null,
   "metadata": {
    "collapsed": true
   },
   "outputs": [],
   "source": [
    "# Create the flame object\n",
    "oppFlame = ct.CounterflowTwinPremixedFlame(gas, width=width)\n",
    "\n",
    "# Uncomment the following line to use a Multi-component transport formulation (default is 'mixture-averaged')\n",
    "#oppFlame.transport_model = 'Multi'\n",
    "\n",
    "\n",
    "# The solver returns the peak temperature, strain rate and\n",
    "# the point which we ascribe to the characteristic strain rate.\n",
    "\n",
    "(T, K, strainRatePoint) = solveOpposedFlame(oppFlame, massFlux, loglevel=0)\n",
    "\n",
    "# You can plot/see all state space variables by calling oppFlame.foo where foo\n",
    "# is T, Y[i], etc. The spatial variable (distance in meters) is in oppFlame.grid\n",
    "# Thus to plot temperature vs. distance, use oppFlame.grid and oppFlame.T\n",
    "\n",
    "#This is to save output\n",
    "oppFlame.write_csv(\"premixed_twin_flame.csv\", quiet=False)\n",
    "\n",
    "Sc = computeConsumptionSpeed(oppFlame)\n",
    "\n",
    "print(\"Peak temperature: {0:.1f} K\".format(T))\n",
    "print(\"Strain Rate: {0:.1f} 1/s\".format(K))\n",
    "print(\"Consumption Speed: {0:.2f} cm/s\".format(Sc*100))"
   ]
  },
  {
   "cell_type": "markdown",
   "metadata": {},
   "source": [
    "### Plot figures"
   ]
  },
  {
   "cell_type": "code",
   "execution_count": null,
   "metadata": {
    "collapsed": true
   },
   "outputs": [],
   "source": [
    "# define plotting preference\n",
    "\n",
    "plt.rcParams['figure.autolayout'] = True\n",
    "\n",
    "plt.rcParams['axes.labelsize'] = 14\n",
    "plt.rcParams['xtick.labelsize'] = 12\n",
    "plt.rcParams['ytick.labelsize'] = 12\n",
    "plt.rcParams['legend.fontsize'] = 10\n",
    "plt.rcParams['figure.facecolor'] = 'white'\n",
    "plt.rcParams['figure.figsize'] = (8,6)"
   ]
  },
  {
   "cell_type": "code",
   "execution_count": null,
   "metadata": {
    "collapsed": true
   },
   "outputs": [],
   "source": []
  }
 ],
 "metadata": {
  "anaconda-cloud": {},
  "kernelspec": {
   "display_name": "Python 2",
   "language": "python",
   "name": "python2"
  },
  "language_info": {
   "codemirror_mode": {
    "name": "ipython",
    "version": 2
   },
   "file_extension": ".py",
   "mimetype": "text/x-python",
   "name": "python",
   "nbconvert_exporter": "python",
   "pygments_lexer": "ipython2",
   "version": "2.7.12"
  }
 },
 "nbformat": 4,
 "nbformat_minor": 0
}
