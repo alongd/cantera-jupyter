{
 "cells": [
  {
   "cell_type": "markdown",
   "metadata": {},
   "source": [
    "### Import modules"
   ]
  },
  {
   "cell_type": "code",
   "execution_count": null,
   "metadata": {
    "collapsed": true
   },
   "outputs": [],
   "source": [
    "from __future__ import print_function\n",
    "from __future__ import division\n",
    "\n",
    "import cantera as ct\n",
    "import numpy as np\n",
    "\n",
    "import pandas as pd\n",
    "import matplotlib.pyplot as plt\n",
    "import os\n",
    "import time\n",
    "%matplotlib notebook\n",
    "\n",
    "print(\"Running Cantera Version: \" + str(ct.__version__))\n",
    "print(\"test\")"
   ]
  },
  {
   "cell_type": "markdown",
   "metadata": {},
   "source": [
    "### Define the reactant conditions, gas mixture and kinetic mechanism associated with the gas"
   ]
  },
  {
   "cell_type": "code",
   "execution_count": null,
   "metadata": {
    "collapsed": true
   },
   "outputs": [],
   "source": [
    "#Setting the inlet T and P\n",
    "To = 300     # K\n",
    "Po = 101325  # Pa\n",
    "\n",
    "#Define the gas-mixutre and kinetics\n",
    "gas = ct.Solution('gri30.cti')\n",
    "\n",
    "gas.set_equivalence_ratio(0.75, 'CH4', {'O2':1.0, 'N2':3.76})\n",
    "gas.TP = To, Po\n",
    "\n",
    "# Set the reactants inlet velocity which determines the strain-rate\n",
    "axial_velocity = 2.0 # in m/s\n",
    "\n",
    "# Compute the mass flux, as required by the Flame object\n",
    "massFlux = gas.density * axial_velocity # units kg/m2/s"
   ]
  },
  {
   "cell_type": "markdown",
   "metadata": {},
   "source": [
    "### Define functions"
   ]
  },
  {
   "cell_type": "code",
   "execution_count": null,
   "metadata": {
    "collapsed": true
   },
   "outputs": [],
   "source": [
    "# Differentiation function for data that has variable grid spacing, used to compute normal strain-rate\n",
    "def derivative(x, y):\n",
    "    dydx = np.zeros(y.shape, y.dtype.type)\n",
    "\n",
    "    dx = np.diff(x)\n",
    "    dy = np.diff(y)\n",
    "    dydx[0:-1] = dy/dx\n",
    "\n",
    "    dydx[-1] = (y[-1] - y[-2])/(x[-1] - x[-2])\n",
    "\n",
    "    return dydx\n",
    "\n",
    "def computeStrainRates(oppFlame):\n",
    "    # Compute the derivative of axial velocity to obtain normal strain rate\n",
    "    strainRates = derivative(oppFlame.grid, oppFlame.u)\n",
    "\n",
    "    # Obtain the location of the max. strain rate (chartacteristic) upstream of the pre-heat zone.\n",
    "    maxStrLocation = abs(strainRates).argmax()\n",
    "    minVelocityPoint = oppFlame.u[:maxStrLocation].argmin()\n",
    "\n",
    "    # Characteristic Strain Rate = K\n",
    "    strainRatePoint = abs(strainRates[:minVelocityPoint]).argmax()\n",
    "    K = abs(strainRates[strainRatePoint])\n",
    "\n",
    "    return strainRates, strainRatePoint, K\n",
    "\n",
    "def computeConsumptionSpeed(oppFlame):\n",
    "\n",
    "    Tb = max(oppFlame.T)\n",
    "    Tu = min(oppFlame.T)\n",
    "    rho_u = max(oppFlame.density)\n",
    "\n",
    "    integrand = oppFlame.heat_release_rate/oppFlame.cp\n",
    "\n",
    "    I = np.trapz(integrand, oppFlame.grid)\n",
    "    Sc = I/(Tb - Tu)/rho_u\n",
    "\n",
    "    return Sc\n",
    "\n",
    "# This function is called to run the solver\n",
    "def solveOpposedFlame(oppFlame, massFlux=0.12, loglevel=0,\n",
    "                      ratio=2, slope=0.3, curve=0.3, prune=0.05):\n",
    "    \"\"\"\n",
    "    Execute this function to run the Oppposed Flow Simulation This function\n",
    "    takes a CounterFlowTwinPremixedFlame object as the first argument\n",
    "    \"\"\"\n",
    "\n",
    "    oppFlame.reactants.mdot = massFlux\n",
    "    oppFlame.set_refine_criteria(ratio=ratio, slope=slope, curve=curve, prune=prune)\n",
    "\n",
    "    oppFlame.show_solution()\n",
    "    oppFlame.solve(loglevel, auto=True)\n",
    "\n",
    "    # Compute the strain rate, just before the flame. This is not necessarily\n",
    "    # the maximum We use the max. strain rate just upstream of the pre-heat zone\n",
    "    # as this is the strain rate that computations comprare against, like when\n",
    "    # plotting Su vs. K\n",
    "    strainRates, strainRatePoint, K = computeStrainRates(oppFlame)\n",
    "\n",
    "    return np.max(oppFlame.T), K, strainRatePoint"
   ]
  },
  {
   "cell_type": "markdown",
   "metadata": {},
   "source": [
    "### Define a flame object, domain width and tranport model"
   ]
  },
  {
   "cell_type": "code",
   "execution_count": null,
   "metadata": {
    "collapsed": true
   },
   "outputs": [],
   "source": [
    "# Define a domain half-width of 2.5 cm, meaning the whole domain is 5 cm wide\n",
    "width = 0.025\n",
    "\n",
    "# Create the flame object\n",
    "oppFlame = ct.CounterflowTwinPremixedFlame(gas, width=width)\n",
    "\n",
    "# Uncomment the following line to use a Multi-component formulation. Default is\n",
    "# mixture-averaged\n",
    "#oppFlame.transport_model = 'Multi'"
   ]
  },
  {
   "cell_type": "markdown",
   "metadata": {},
   "source": [
    "### Run the Solver"
   ]
  },
  {
   "cell_type": "code",
   "execution_count": null,
   "metadata": {
    "collapsed": true
   },
   "outputs": [],
   "source": [
    "# The solver returns the peak temperature, strain rate and\n",
    "# the point which we ascribe to the characteristic strain rate.\n",
    "\n",
    "(T, K, strainRatePoint) = solveOpposedFlame(oppFlame, massFlux, loglevel=1)\n",
    "\n",
    "# You can plot/see all state space variables by calling oppFlame.foo where foo\n",
    "# is T, Y[i], etc. The spatial variable (distance in meters) is in oppFlame.grid\n",
    "# Thus to plot temperature vs distance, use oppFlame.grid and oppFlame.T\n",
    "\n",
    "#This is to save output\n",
    "oppFlame.write_csv(\"premixed_twin_flame.csv\", quiet=False)"
   ]
  },
  {
   "cell_type": "code",
   "execution_count": null,
   "metadata": {
    "collapsed": true
   },
   "outputs": [],
   "source": [
    "Sc = computeConsumptionSpeed(oppFlame)\n",
    "\n",
    "print(\"Peak temperature: {0:.1f} K\".format(T))\n",
    "print(\"Strain Rate: {0:.1f} 1/s\".format(K))\n",
    "print(\"Consumption Speed: {0:.2f} cm/s\".format(Sc*100))"
   ]
  },
  {
   "cell_type": "markdown",
   "metadata": {},
   "source": [
    "### Plot figures\n",
    "\n",
    "Note that the graphs only represent one-half of the domain, because the solution is symmetric"
   ]
  },
  {
   "cell_type": "code",
   "execution_count": null,
   "metadata": {
    "collapsed": true
   },
   "outputs": [],
   "source": [
    "# Import plotting modules and define plotting preference\n",
    "import matplotlib.pyplot as plt\n",
    "%matplotlib notebook\n",
    "\n",
    "plt.rcParams['figure.autolayout'] = True\n",
    "\n",
    "plt.rcParams['axes.labelsize'] = 14\n",
    "plt.rcParams['xtick.labelsize'] = 12\n",
    "plt.rcParams['ytick.labelsize'] = 12\n",
    "plt.rcParams['legend.fontsize'] = 10\n",
    "plt.rcParams['figure.facecolor'] = 'white'\n",
    "plt.rcParams['figure.figsize'] = (8,6)"
   ]
  },
  {
   "cell_type": "markdown",
   "metadata": {},
   "source": [
    "#### Axial velocity plot"
   ]
  },
  {
   "cell_type": "code",
   "execution_count": null,
   "metadata": {
    "collapsed": true
   },
   "outputs": [],
   "source": [
    "plt.figure()\n",
    "\n",
    "plt.plot(oppFlame.grid*100, oppFlame.u, 'r-o', lw=2)\n",
    "plt.xlim(oppFlame.grid[0], oppFlame.grid[-1]*100)\n",
    "plt.xlabel('Distance (cm)')\n",
    "plt.ylabel('Axial Velocity (m/s)')\n",
    "\n",
    "# Identify the point where the strain rate is calculated\n",
    "plt.plot(oppFlame.grid[strainRatePoint]*100, oppFlame.u[strainRatePoint],'gs')\n",
    "plt.annotate('Strain-Rate point',\n",
    "             xy=(oppFlame.grid[strainRatePoint]*100, oppFlame.u[strainRatePoint]),\n",
    "             xytext=(0.001, 0.1),\n",
    "             arrowprops={'arrowstyle':'->'});"
   ]
  },
  {
   "cell_type": "markdown",
   "metadata": {},
   "source": [
    "#### Temperature Plot"
   ]
  },
  {
   "cell_type": "code",
   "execution_count": null,
   "metadata": {
    "collapsed": true
   },
   "outputs": [],
   "source": [
    "plt.figure()\n",
    "\n",
    "plt.plot(oppFlame.grid*100, oppFlame.T, 'b-s', lw=2)\n",
    "plt.xlim(oppFlame.grid[0], oppFlame.grid[-1]*100)\n",
    "plt.xlabel('Distance (cm)')\n",
    "plt.ylabel('Temperature (K)');"
   ]
  },
  {
   "cell_type": "markdown",
   "metadata": {},
   "source": [
    "#### Major Species' Plot"
   ]
  },
  {
   "cell_type": "code",
   "execution_count": null,
   "metadata": {
    "collapsed": true
   },
   "outputs": [],
   "source": [
    "\"\"\"\n",
    "# To plot species, we first have to identify the index of the species in the array\n",
    "# For this, cut & paste the following lines and run in a new cell to get the index\n",
    "for i, specie in enumerate(gas.species()):\n",
    "    print(str(i) + '. ' + str(specie))\n",
    "\"\"\"\n",
    "\n",
    "# Extract concentration data\n",
    "X_CH4 = oppFlame.X[13]\n",
    "X_CO2 = oppFlame.X[15]\n",
    "X_H2O = oppFlame.X[5]\n",
    "\n",
    "plt.figure()\n",
    "\n",
    "plt.plot(oppFlame.grid*100, X_CH4, 'c-o', lw=2, label=r'$CH_{4}$')\n",
    "plt.plot(oppFlame.grid*100, X_CO2, 'm-s', lw=2, label=r'$CO_{2}$')\n",
    "plt.plot(oppFlame.grid*100, X_H2O, 'g-<', lw=2, label=r'$H_{2}O$')\n",
    "\n",
    "plt.xlim(oppFlame.grid[0], oppFlame.grid[-1]*100)\n",
    "plt.xlabel('Distance (cm)')\n",
    "plt.ylabel('Mole Fractions')\n",
    "\n",
    "plt.legend(loc=2);"
   ]
  },
  {
   "cell_type": "code",
   "execution_count": null,
   "metadata": {
    "collapsed": true
   },
   "outputs": [],
   "source": []
  }
 ],
 "metadata": {
  "anaconda-cloud": {},
  "kernelspec": {
   "display_name": "Python [Root]",
   "language": "python",
   "name": "Python [Root]"
  },
  "language_info": {
   "codemirror_mode": {
    "name": "ipython",
    "version": 3
   },
   "file_extension": ".py",
   "mimetype": "text/x-python",
   "name": "python",
   "nbconvert_exporter": "python",
   "pygments_lexer": "ipython3",
   "version": "3.5.2"
  }
 },
 "nbformat": 4,
 "nbformat_minor": 0
}
